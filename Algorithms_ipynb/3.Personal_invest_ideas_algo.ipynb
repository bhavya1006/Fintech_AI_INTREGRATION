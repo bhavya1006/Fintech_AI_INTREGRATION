{
 "cells": [
  {
   "cell_type": "code",
   "execution_count": 174,
   "id": "9500d161-a139-448b-b104-f7881e7f1089",
   "metadata": {},
   "outputs": [],
   "source": [
    "import pandas as pd\n",
    "import yfinance as yf \n",
    "import datetime as d\n",
    "from prophet import Prophet \n",
    "from datetime import date,timedelta\n",
    " \n",
    "start=d.date(2019, 1, 1)\n",
    "end=d.date.today()\n",
    "stock_df = pd.read_csv(\"StockStreamTickersData.csv\")\n",
    "\n",
    "tickers = stock_df[\"Company Name\"]  \n",
    "\n",
    "yesterday = end - timedelta(days=2)\n"
   ]
  },
  {
   "cell_type": "code",
   "execution_count": 175,
   "id": "a1b1d049-cb36-4f03-b947-8bab5657c3f7",
   "metadata": {},
   "outputs": [
    {
     "name": "stdin",
     "output_type": "stream",
     "text": [
      "enter low or medium or high:  Medium\n",
      "enter Short-term (ST) or Long-term (LT) or Mid-term:  Mid-term\n",
      "enter Tech or Healthcare or Finance or Energy:  Finance\n"
     ]
    }
   ],
   "source": [
    "investment_range = input(\"enter low or medium or high: \")\n",
    "duration = input(\"enter Short-term (ST) or Long-term (LT) or Mid-term: \")\n",
    "sectors_of_interest = input(\"enter Tech or Healthcare or Finance or Energy: \")"
   ]
  },
  {
   "cell_type": "code",
   "execution_count": 176,
   "id": "98480c98-7ca5-4ba9-8e2c-dc8933e811a2",
   "metadata": {},
   "outputs": [],
   "source": [
    "array = ['ICICI Bank Limited','State Bank of India','Kotak Mahindra Bank Limited','Bajaj Finserv Limited','Axis Bank Limited','IDBI Bank Limited',]\n"
   ]
  },
  {
   "cell_type": "code",
   "execution_count": null,
   "id": "658f81b9-4c51-4028-ad69-9e7eac0d4f03",
   "metadata": {},
   "outputs": [],
   "source": []
  },
  {
   "cell_type": "code",
   "execution_count": 177,
   "id": "d502587e-989e-4ef6-94dd-ed64f07d4b87",
   "metadata": {},
   "outputs": [
    {
     "name": "stderr",
     "output_type": "stream",
     "text": [
      "[*********************100%%**********************]  6 of 6 completed"
     ]
    },
    {
     "name": "stdout",
     "output_type": "stream",
     "text": [
      "        Date         Ticker        Price\n",
      "5 2024-01-25        IDBI.NS    83.500000\n",
      "1 2024-01-25        SBIN.NS   612.750000\n",
      "0 2024-01-25   ICICIBANK.NS  1009.950012\n",
      "4 2024-01-25    AXISBANK.NS  1042.250000\n",
      "3 2024-01-25  BAJAJFINSV.NS  1630.150024\n",
      "2 2024-01-25   KOTAKBANK.NS  1768.400024\n"
     ]
    },
    {
     "name": "stderr",
     "output_type": "stream",
     "text": [
      "\n"
     ]
    }
   ],
   "source": [
    "dict_csv = pd.read_csv('StockStreamTickersData.csv', header=None, index_col=0).to_dict()[1]  \n",
    "symb_list = [] \n",
    "for i in array:  \n",
    "    val = dict_csv.get(i)  \n",
    "    symb_list.append(val)\n",
    "\n",
    "data = yf.download(symb_list, start=yesterday, end=end)\n",
    "data=data['Close']\n",
    "data.reset_index(inplace=True)\n",
    "melted_data = pd.melt(data, id_vars=['Date'], value_vars=symb_list, var_name='Ticker', value_name='Price')\n",
    "\n",
    "sorted_data = melted_data.sort_values(by='Price', ascending=True)\n",
    "\n",
    "print(sorted_data)"
   ]
  },
  {
   "cell_type": "code",
   "execution_count": null,
   "id": "3a444f34-0392-4833-9ae4-fd4470c9c327",
   "metadata": {},
   "outputs": [],
   "source": []
  },
  {
   "cell_type": "code",
   "execution_count": 178,
   "id": "ac3439ce-6494-4e32-ac17-9ccca9b306b0",
   "metadata": {},
   "outputs": [
    {
     "data": {
      "text/plain": [
       "['IDBI.NS',\n",
       " 'SBIN.NS',\n",
       " 'ICICIBANK.NS',\n",
       " 'AXISBANK.NS',\n",
       " 'BAJAJFINSV.NS',\n",
       " 'KOTAKBANK.NS']"
      ]
     },
     "execution_count": 178,
     "metadata": {},
     "output_type": "execute_result"
    }
   ],
   "source": [
    "new_t=[]\n",
    "for i in sorted_data['Ticker']:\n",
    "    new_t.append(i)\n",
    "new_t\n"
   ]
  },
  {
   "cell_type": "code",
   "execution_count": 179,
   "id": "2ab20719-2576-40d4-8039-ee5f7bf6f8b9",
   "metadata": {},
   "outputs": [],
   "source": [
    "result_df = pd.DataFrame(columns=['Ticker', 'PredictedProfit','Buying_Price','Exit_safe_price'])"
   ]
  },
  {
   "cell_type": "code",
   "execution_count": null,
   "id": "7ed22c07-6d72-4a92-ab31-a234a1b3647f",
   "metadata": {},
   "outputs": [],
   "source": []
  },
  {
   "cell_type": "code",
   "execution_count": null,
   "id": "ee6076ea-5183-447b-9ea1-ed24816a39ed",
   "metadata": {},
   "outputs": [],
   "source": []
  },
  {
   "cell_type": "code",
   "execution_count": 180,
   "id": "3fc5cb76-e5ef-4400-9d3e-9e89775ede20",
   "metadata": {},
   "outputs": [
    {
     "name": "stderr",
     "output_type": "stream",
     "text": [
      "[*********************100%%**********************]  1 of 1 completed\n",
      "[*********************100%%**********************]  1 of 1 completed\n",
      "[*********************100%%**********************]  1 of 1 completed\n",
      "[*********************100%%**********************]  1 of 1 completed\n",
      "[*********************100%%**********************]  1 of 1 completed\n",
      "[*********************100%%**********************]  1 of 1 completed\n"
     ]
    }
   ],
   "source": [
    "dict_csv = pd.read_csv('StockStreamTickersData.csv', header=None, index_col=0).to_dict()[1]  \n",
    "\n",
    "if investment_range=='Medium' and duration=='Mid-term' and sectors_of_interest=='Finance':\n",
    "    a = new_t\n",
    "    for i in a:\n",
    "        data = yf.download(i, start=start, end=end)\n",
    "        data.reset_index(inplace=True)     \n",
    "        n_years = 0.5\n",
    "        period = int(n_years * 365 )\n",
    "        df_train = data[['Date', 'Close']]\n",
    "        df_train = df_train.rename(columns={\"Date\": \"ds\", \"Close\": \"y\"})  # rename columns\n",
    "\n",
    "        m = Prophet()   \n",
    "        m.fit(df_train) \n",
    "        future = m.make_future_dataframe(periods=period)   \n",
    "        forecast = m.predict(future) \n",
    "        forecast['ds'] = pd.to_datetime(forecast['ds']).dt.date\n",
    "        end = date.today()\n",
    "\n",
    "        filtered_df = forecast[forecast['ds'] > end]\n",
    "        maxx_pred=filtered_df['yhat_upper'].max()\n",
    "        a=sorted_data[sorted_data['Ticker']==i]\n",
    "        predicted_profit = maxx_pred - a['Price'].iloc[0]\n",
    "        \n",
    "        buy_price=sorted_data[sorted_data[\"Ticker\"]==i]['Price'].iloc[0]        \n",
    "        result_df.loc[len(result_df)] = [i, predicted_profit, buy_price, maxx_pred]\n",
    "          "
   ]
  },
  {
   "cell_type": "code",
   "execution_count": 173,
   "id": "b144afa9-8c1b-4d61-a0c6-4361f2cc310c",
   "metadata": {},
   "outputs": [
    {
     "data": {
      "text/html": [
       "<div>\n",
       "<style scoped>\n",
       "    .dataframe tbody tr th:only-of-type {\n",
       "        vertical-align: middle;\n",
       "    }\n",
       "\n",
       "    .dataframe tbody tr th {\n",
       "        vertical-align: top;\n",
       "    }\n",
       "\n",
       "    .dataframe thead th {\n",
       "        text-align: right;\n",
       "    }\n",
       "</style>\n",
       "<table border=\"1\" class=\"dataframe\">\n",
       "  <thead>\n",
       "    <tr style=\"text-align: right;\">\n",
       "      <th></th>\n",
       "      <th>Ticker</th>\n",
       "      <th>PredictedProfit</th>\n",
       "      <th>Buying_Price</th>\n",
       "      <th>Exit_safe_price</th>\n",
       "    </tr>\n",
       "  </thead>\n",
       "  <tbody>\n",
       "    <tr>\n",
       "      <th>3</th>\n",
       "      <td>AXISBANK.NS</td>\n",
       "      <td>262.761969</td>\n",
       "      <td>1042.250000</td>\n",
       "      <td>1305.011969</td>\n",
       "    </tr>\n",
       "    <tr>\n",
       "      <th>5</th>\n",
       "      <td>KOTAKBANK.NS</td>\n",
       "      <td>242.523222</td>\n",
       "      <td>1768.400024</td>\n",
       "      <td>2010.923246</td>\n",
       "    </tr>\n",
       "    <tr>\n",
       "      <th>2</th>\n",
       "      <td>ICICIBANK.NS</td>\n",
       "      <td>125.796220</td>\n",
       "      <td>1009.950012</td>\n",
       "      <td>1135.746233</td>\n",
       "    </tr>\n",
       "    <tr>\n",
       "      <th>4</th>\n",
       "      <td>BAJAJFINSV.NS</td>\n",
       "      <td>125.349027</td>\n",
       "      <td>1630.150024</td>\n",
       "      <td>1755.499051</td>\n",
       "    </tr>\n",
       "    <tr>\n",
       "      <th>1</th>\n",
       "      <td>SBIN.NS</td>\n",
       "      <td>60.596763</td>\n",
       "      <td>612.750000</td>\n",
       "      <td>673.346763</td>\n",
       "    </tr>\n",
       "    <tr>\n",
       "      <th>0</th>\n",
       "      <td>IDBI.NS</td>\n",
       "      <td>1.384338</td>\n",
       "      <td>83.500000</td>\n",
       "      <td>84.884338</td>\n",
       "    </tr>\n",
       "  </tbody>\n",
       "</table>\n",
       "</div>"
      ],
      "text/plain": [
       "          Ticker  PredictedProfit  Buying_Price  Exit_safe_price\n",
       "3    AXISBANK.NS       262.761969   1042.250000      1305.011969\n",
       "5   KOTAKBANK.NS       242.523222   1768.400024      2010.923246\n",
       "2   ICICIBANK.NS       125.796220   1009.950012      1135.746233\n",
       "4  BAJAJFINSV.NS       125.349027   1630.150024      1755.499051\n",
       "1        SBIN.NS        60.596763    612.750000       673.346763\n",
       "0        IDBI.NS         1.384338     83.500000        84.884338"
      ]
     },
     "execution_count": 173,
     "metadata": {},
     "output_type": "execute_result"
    }
   ],
   "source": [
    "result_df=result_df.sort_values(by='PredictedProfit', ascending=False)\n",
    "result_df"
   ]
  },
  {
   "cell_type": "code",
   "execution_count": 169,
   "id": "f58b2d2b-be5e-4ea0-9ef6-17d325923834",
   "metadata": {},
   "outputs": [
    {
     "data": {
      "text/plain": [
       "262.76196945945117"
      ]
     },
     "execution_count": 169,
     "metadata": {},
     "output_type": "execute_result"
    }
   ],
   "source": [
    "result_df[:1]['PredictedProfit'].iloc[0]"
   ]
  },
  {
   "cell_type": "code",
   "execution_count": null,
   "id": "89fec8ae-6952-4f3b-90bb-21625bdb1a5c",
   "metadata": {},
   "outputs": [],
   "source": [
    "result_df[:1]['Ticker'].iloc[0]"
   ]
  },
  {
   "cell_type": "code",
   "execution_count": null,
   "id": "0a81ed8c-f93a-4e4d-8663-6ca71cf91a07",
   "metadata": {},
   "outputs": [],
   "source": []
  },
  {
   "cell_type": "code",
   "execution_count": 184,
   "id": "d1743de4-89dc-4729-82df-1d7d199e3ac9",
   "metadata": {},
   "outputs": [],
   "source": [
    "result_df=result_df.sort_values(by='PredictedProfit', ascending=False)\n",
    "result_df.to_csv('result_summary.csv', index=False)"
   ]
  },
  {
   "cell_type": "code",
   "execution_count": null,
   "id": "f6228aa2-f0a6-490b-92aa-35d0b1df055c",
   "metadata": {},
   "outputs": [],
   "source": []
  },
  {
   "cell_type": "code",
   "execution_count": null,
   "id": "e1da5890-95e7-45be-81d3-096de2edcde8",
   "metadata": {},
   "outputs": [],
   "source": []
  }
 ],
 "metadata": {
  "kernelspec": {
   "display_name": "Python 3 (ipykernel)",
   "language": "python",
   "name": "python3"
  },
  "language_info": {
   "codemirror_mode": {
    "name": "ipython",
    "version": 3
   },
   "file_extension": ".py",
   "mimetype": "text/x-python",
   "name": "python",
   "nbconvert_exporter": "python",
   "pygments_lexer": "ipython3",
   "version": "3.9.13"
  }
 },
 "nbformat": 4,
 "nbformat_minor": 5
}
